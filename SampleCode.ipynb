{
 "cells": [
  {
   "cell_type": "markdown",
   "metadata": {},
   "source": [
    "# サンプルコード：使い回し可コード"
   ]
  },
  {
   "cell_type": "code",
   "execution_count": null,
   "metadata": {
    "collapsed": true
   },
   "outputs": [],
   "source": [
    "import numpy as np\n",
    "%matplotlib inline\n",
    "import matplotlib.pyplot as plt\n",
    "from scipy import sparse\n",
    "import pandas as pd\n",
    "from pandas import Series, DataFrame\n",
    "from IPython import display\n",
    "import os\n",
    "import datetime\n",
    "from pandas.tseries.offsets import Hour, Minute\n",
    "import glob\n",
    "import re\n",
    "import mglearn\n",
    "import sklearn\n",
    "from sklearn.model_selection import train_test_split\n",
    "from sklearn.preprocessing import StandardScaler\n",
    "from sklearn.preprocessing import MinMaxScaler\n",
    "from sklearn.decomposition import PCA\n",
    "from sklearn.datasets import load_digits\n",
    "import seaborn as sns"
   ]
  },
  {
   "cell_type": "code",
   "execution_count": 1,
   "metadata": {},
   "outputs": [],
   "source": [
    "#Excel関係\n",
    "import xlrd\n",
    "import pprint"
   ]
  },
  {
   "cell_type": "markdown",
   "metadata": {},
   "source": [
    "### ファイル読み込み"
   ]
  },
  {
   "cell_type": "code",
   "execution_count": null,
   "metadata": {
    "collapsed": true
   },
   "outputs": [],
   "source": [
    "allFiles = glob.glob(\"./data/*.csv\")\n",
    "allFiles.sort()\n",
    "allFiles #全てのファイルが降順になっていることを確認する。"
   ]
  },
  {
   "cell_type": "code",
   "execution_count": null,
   "metadata": {
    "collapsed": true
   },
   "outputs": [],
   "source": [
    "list_=[]\n",
    "for file_ in allFiles:\n",
    "    print(file_)\n",
    "    df = pd.read_csv(file_,engine='python',encoding='shift-jis',skiprows = [1,2])\n",
    "    list_.append(df)\n",
    "frame = pd.concat(list_)"
   ]
  },
  {
   "cell_type": "code",
   "execution_count": null,
   "metadata": {},
   "outputs": [],
   "source": []
  },
  {
   "cell_type": "markdown",
   "metadata": {},
   "source": [
    "###### ファイル名取得"
   ]
  },
  {
   "cell_type": "code",
   "execution_count": null,
   "metadata": {},
   "outputs": [],
   "source": [
    "allFiles = glob.glob(\"./*.csv\")\n",
    "allFiles.sort()\n",
    "allFiles\n",
    "\n",
    "file_ls = []\n",
    "for i,n in enumerate(allFiles):\n",
    "    file_ls.append(os.path.splitext(os.path.basename(allFiles[i]))[0])"
   ]
  },
  {
   "cell_type": "code",
   "execution_count": null,
   "metadata": {},
   "outputs": [],
   "source": []
  },
  {
   "cell_type": "markdown",
   "metadata": {},
   "source": [
    "### Excel読み込み"
   ]
  },
  {
   "cell_type": "code",
   "execution_count": null,
   "metadata": {},
   "outputs": [],
   "source": [
    "df_ex = pd.ExcelFile('ファイル名.xls')\n",
    "df = pd.read_excel(cb0315_ex, 'sheet名')"
   ]
  },
  {
   "cell_type": "code",
   "execution_count": null,
   "metadata": {},
   "outputs": [],
   "source": []
  },
  {
   "cell_type": "markdown",
   "metadata": {},
   "source": [
    "### Pandas"
   ]
  },
  {
   "cell_type": "code",
   "execution_count": null,
   "metadata": {
    "collapsed": true
   },
   "outputs": [],
   "source": [
    "#特定の行だけ取り出す\n",
    "df_col = df.loc[df['カラム'] == '特定の文字または数字', :]"
   ]
  },
  {
   "cell_type": "code",
   "execution_count": null,
   "metadata": {
    "collapsed": true
   },
   "outputs": [],
   "source": [
    "#任意のカラムの中で、任意のリストlsに合致する行だけを抽出する。\n",
    "df = df_all[df_all['カラム'].isin(ls)]\n",
    "\n",
    "#任意のカラムの中で、任意のリストlsに合致しない行だけを抽出する。\n",
    "df = df_all[~df_all['カラム'].isin(ls)]"
   ]
  },
  {
   "cell_type": "code",
   "execution_count": null,
   "metadata": {},
   "outputs": [],
   "source": []
  },
  {
   "cell_type": "markdown",
   "metadata": {},
   "source": [
    "###### pickleの読み込み＆書き出し"
   ]
  },
  {
   "cell_type": "code",
   "execution_count": null,
   "metadata": {},
   "outputs": [],
   "source": [
    "#書き出し\n",
    "preprop_df.to_pickle('*****.pkl')"
   ]
  },
  {
   "cell_type": "code",
   "execution_count": null,
   "metadata": {},
   "outputs": [],
   "source": [
    "#読み込み\n",
    "with open('./******.pkl', 'rb') as web:\n",
    "  df = pickle.load(web)"
   ]
  },
  {
   "cell_type": "code",
   "execution_count": null,
   "metadata": {},
   "outputs": [],
   "source": []
  },
  {
   "cell_type": "markdown",
   "metadata": {},
   "source": [
    "#### 画像処理関連OpenCV"
   ]
  },
  {
   "cell_type": "code",
   "execution_count": null,
   "metadata": {},
   "outputs": [],
   "source": [
    "import cv2\n",
    "#OpenCVは、色の配置がBGRとなるので注意（RGBでは無い）"
   ]
  },
  {
   "cell_type": "code",
   "execution_count": null,
   "metadata": {},
   "outputs": [],
   "source": [
    "#画像読み込み\n",
    "img = cv2.imread(\"読み込みファイル名\",0) #最後の数字は無くてもOK。0の場合、グレースケール\n",
    "#画像表示\n",
    "cv2.imshow(\"ウインドウ名\", img)\n",
    "cv2.waitKey(0)\n",
    "cv2.destroyAllWindows() #何かキーを押すと、Windowを閉じる。けど、Macは閉じない。"
   ]
  },
  {
   "cell_type": "code",
   "execution_count": null,
   "metadata": {},
   "outputs": [],
   "source": [
    "#画像のB,G,Rのヒストグラム\n",
    "color_list = [\"blue\",\"green\",\"red\"]\n",
    "for i, j in enumerate(color_list):\n",
    "    hist = cv2.calcHist([img],[i],None,[256],[0,256])\n",
    "    plt.plot(hist,color = j)"
   ]
  },
  {
   "cell_type": "code",
   "execution_count": null,
   "metadata": {},
   "outputs": [],
   "source": [
    "#画像のγ変換\n",
    "gamma = 1.5\n",
    "img = cv2.imread(\"ファイル名.jpg\")\n",
    "gamma_cvt = np.zeros((256,1), dtype=np.uint8)\n",
    "for i in range(256):\n",
    "    gamma_cvt[i][0] = 255 * (float(i)/255) ** (1.0 /gamma) #γ変換用のフィルタ作成\n",
    "    print(gamma_cvt[i][0])\n",
    "\n",
    "img_gamma =cv2.LUT(img, gamma_cvt) #元画像に、γ変換用のフィルタをかけてるイメージ\n",
    "\n",
    "cv2.imshow(\"img\",img)\n",
    "cv2.imshow(\"gamma\", img_gamma)\n",
    "cv2.waitKey(0)\n",
    "cv2.destroyAllWindows()"
   ]
  },
  {
   "cell_type": "code",
   "execution_count": null,
   "metadata": {},
   "outputs": [],
   "source": [
    "#2値化\n",
    "threshold =100\n",
    "ret, img_th = cv2.threshold(img, threshold, 255, cv2.THRESH_BINARY)"
   ]
  },
  {
   "cell_type": "code",
   "execution_count": null,
   "metadata": {},
   "outputs": [],
   "source": [
    "#２値化とその閾値のバー\n",
    "def onTrackbar(position):\n",
    "    global threshold\n",
    "    threshold = position\n",
    "cv2.namedWindow(\"img\")\n",
    "threshold = 100\n",
    "cv2.createTrackbar(\"track\", \"img\", threshold, 255, onTrackbar)\n",
    "\n",
    "while True:\n",
    "    ret, img_th = cv2.threshold(img,threshold,255,cv2.THRESH_BINARY) #retが閾値、img_thが２値化後の画像データ\n",
    "    #img_th = cv2.adaptiveThreshold(img,255,cv2.ADAPTIVE_THRESH_MEAN_C, cv2.THRESH_BINARY, 3, threshold)\n",
    "    cv2.imshow(\"img\",img_th)\n",
    "    cv2.imshow(\"src\",img)\n",
    "    if cv2.waitKey(10) ==27:\n",
    "        break\n",
    "cv2.destroyAllWindows()"
   ]
  },
  {
   "cell_type": "code",
   "execution_count": null,
   "metadata": {},
   "outputs": [],
   "source": []
  },
  {
   "cell_type": "code",
   "execution_count": null,
   "metadata": {},
   "outputs": [],
   "source": []
  },
  {
   "cell_type": "markdown",
   "metadata": {
    "collapsed": true
   },
   "source": [
    "### よく使用するグラフ"
   ]
  },
  {
   "cell_type": "code",
   "execution_count": null,
   "metadata": {
    "collapsed": true
   },
   "outputs": [],
   "source": [
    "x = np.arange(-10, 10, 0.1)\n",
    "y = x**3\n",
    "\n",
    "plt.figure(figsize=(6, 4))  # set aspect by width, height\n",
    "\n",
    "plt.xlim(min(x), max(x))\n",
    "plt.ylim(min(y), max(y))  # set range of x, y\n",
    "\n",
    "plt.xticks(np.arange(min(x), max(x)+2, 2))\n",
    "plt.yticks(np.arange(min(y), max(y)+200, 200))  # set frequency of ticks\n",
    "\n",
    "plt.plot(x, y, color=(0, 1, 1), label='y=x**3')  # color can be set by (r, g, b) or text such as 'green'\n",
    "\n",
    "plt.hlines(0, min(x), max(x), linestyle='dashed', linewidth=0.5)  # horizontal line\n",
    "plt.vlines(0, min(y), max(y), linestyle='dashed', linewidth=0.5)  # vertical line\n",
    "\n",
    "plt.legend(loc='upper left')  # location can be upper/lower/center/(none) and right/left/(none)\n",
    "plt.title('Sample 1')\n",
    "plt.show()"
   ]
  },
  {
   "cell_type": "markdown",
   "metadata": {},
   "source": [
    "### ＃ヒートマップ"
   ]
  },
  {
   "cell_type": "code",
   "execution_count": null,
   "metadata": {
    "collapsed": true
   },
   "outputs": [],
   "source": [
    "import seaborn as sns\n",
    "corrmat = df.corr() #dfが対象とするデータフレーム\n",
    "f, ax = plt.subplots(figsize=(20,15))\n",
    "sns.heatmap(corrmat, vmax=.8, square=True)"
   ]
  },
  {
   "cell_type": "markdown",
   "metadata": {},
   "source": [
    "### ★箱ひげ図作成関数"
   ]
  },
  {
   "cell_type": "code",
   "execution_count": null,
   "metadata": {
    "collapsed": true
   },
   "outputs": [],
   "source": [
    "#DFが対象データ（フレーム）\n",
    "#COLUMN_COUNTがグラフの列数\n",
    "#targetが箱引け図のhue対象となるカラム\n",
    "\n",
    "import math\n",
    "def display_feature_boxplot(DF,COLUMN_COUNT,target):    \n",
    "    plt.style.use('ggplot')\n",
    "    plt.figure(figsize=(20,100))\n",
    "    features = DF.select_dtypes(['int']).columns.tolist()\n",
    "    column_count = COLUMN_COUNT\n",
    "    line_count = math.ceil(len(features)/column_count)\n",
    "    i=1\n",
    "    target_= target    \n",
    "    for i, feature in enumerate(features):\n",
    "        plt.subplot(line_count,column_count,i+1)\n",
    "        sns.boxplot(x=target, y= feature, data=DF,hue=target)\n",
    "        plt.title(feature)"
   ]
  },
  {
   "cell_type": "code",
   "execution_count": null,
   "metadata": {
    "collapsed": true
   },
   "outputs": [],
   "source": [
    "target = 'target' #hueで色分けするデータ\n",
    "display_feature_boxplot(df_test,3,target)"
   ]
  },
  {
   "cell_type": "markdown",
   "metadata": {},
   "source": [
    "### ★箱ひげ図作成関数　２パターン目"
   ]
  },
  {
   "cell_type": "code",
   "execution_count": null,
   "metadata": {
    "collapsed": true
   },
   "outputs": [],
   "source": [
    "def display_feature_boxplot_diff(DF,COLUMN_COUNT,diff):\n",
    "    \n",
    "    plt.style.use('ggplot')\n",
    "    plt.figure(figsize=(20,200))\n",
    "    \n",
    "    features = DF.select_dtypes(['float']).columns.tolist()\n",
    "    column_count = COLUMN_COUNT\n",
    "    \n",
    "    line_count = math.ceil(len(features)/column_count)\n",
    "    diff_ = diff\n",
    "    i=1\n",
    "\n",
    "    for i, feature in enumerate(features):\n",
    "        plt.subplot(line_count,column_count,i+1)\n",
    "        sns.boxplot(x=diff_,y= feature, data=DF)\n",
    "        plt.title(feature)"
   ]
  },
  {
   "cell_type": "code",
   "execution_count": null,
   "metadata": {
    "collapsed": true
   },
   "outputs": [],
   "source": [
    "diff_='RESULT_QUALITY'\n",
    "display_feature_boxplot_diff(df,3,diff_)"
   ]
  },
  {
   "cell_type": "markdown",
   "metadata": {},
   "source": [
    "### ★histgramを２種類のデータで書く"
   ]
  },
  {
   "cell_type": "code",
   "execution_count": null,
   "metadata": {
    "collapsed": true
   },
   "outputs": [],
   "source": [
    "def plot_many_hist_diff(DF1,DF2,COLUMN_COUNT):\n",
    "    #データを指定\n",
    "    DF1_ = DF1.copy()\n",
    "    DF2_ = DF2.copy()\n",
    "    #プロットする変数の指定 floatとint型の変数のみ\n",
    "    columns_toplot = DF1_.select_dtypes(['float','int64']).columns.tolist()\n",
    "    #横方向に何個グラフを並べるか指定\n",
    "    COLUMN_COUNT_ = COLUMN_COUNT\n",
    "    #縦方向に何個グラフを並べるか算出\n",
    "    line_count = math.ceil(len(columns_toplot)/COLUMN_COUNT_)\n",
    "    #グラフスタイル\n",
    "    #plt.style.use('fivethirtyeight')\n",
    "    # フォント指定（日本語文字化け防止）\n",
    "    plt.rcParams['font.family'] = 'IPAPGothic'\n",
    "    #グラフサイズ\n",
    "    plt.figure(figsize=(10,5*len(columns_toplot)))\n",
    "    #作図\n",
    "    for col_num, col in enumerate(columns_toplot):\n",
    "       plt.subplot(len(columns_toplot),COLUMN_COUNT_, col_num+1)\n",
    "       DF1__ = DF1_[[col]].copy().dropna()\n",
    "       plt.hist(col, data=DF1__,bins=30,alpha=0.3,color='b',density=True)\n",
    "       DF2__ = DF2_[[col]].copy().dropna()\n",
    "       plt.hist(col, data=DF2__,bins=30,alpha=0.3,color='r',density=True)\n",
    "       # フォントサイズ\n",
    "       plt.title(col)\n",
    "       plt.tick_params(labelsize=15)"
   ]
  },
  {
   "cell_type": "code",
   "execution_count": null,
   "metadata": {
    "collapsed": true
   },
   "outputs": [],
   "source": [
    "plot_many_hist_diff(df_ok,df_ng,2)"
   ]
  },
  {
   "cell_type": "markdown",
   "metadata": {},
   "source": [
    "#### 同じカラム内でのカテゴリを色分け表示"
   ]
  },
  {
   "cell_type": "code",
   "execution_count": null,
   "metadata": {
    "collapsed": true
   },
   "outputs": [],
   "source": [
    "import mglearn\n",
    "mglearn.discrete_scatter(Y[:,0], Y[:,1],df_target)\n",
    "#df_targetが色分けするところ"
   ]
  },
  {
   "cell_type": "markdown",
   "metadata": {},
   "source": [
    "### plotlyでとりあえず折れ線グラフ"
   ]
  },
  {
   "cell_type": "code",
   "execution_count": null,
   "metadata": {},
   "outputs": [],
   "source": []
  },
  {
   "cell_type": "markdown",
   "metadata": {
    "collapsed": true
   },
   "source": [
    "# scikit-learn系"
   ]
  },
  {
   "cell_type": "markdown",
   "metadata": {
    "collapsed": true
   },
   "source": [
    "### 標準化（StandardScaler）"
   ]
  },
  {
   "cell_type": "code",
   "execution_count": null,
   "metadata": {
    "collapsed": true
   },
   "outputs": [],
   "source": [
    "from sklearn.preprocessing import StandardScaler\n",
    "from sklearn.decomposition import PCA"
   ]
  },
  {
   "cell_type": "code",
   "execution_count": null,
   "metadata": {
    "collapsed": true
   },
   "outputs": [],
   "source": [
    "scaler = StandardScaler()\n",
    "scaler.fit(val)\n",
    "X_scaled = scaler.transform(val)"
   ]
  },
  {
   "cell_type": "markdown",
   "metadata": {},
   "source": [
    "### PCA"
   ]
  },
  {
   "cell_type": "code",
   "execution_count": null,
   "metadata": {
    "collapsed": true
   },
   "outputs": [],
   "source": [
    "pca = PCA(n_components=2)\n",
    "pca.fit(X_scaled)"
   ]
  },
  {
   "cell_type": "code",
   "execution_count": null,
   "metadata": {
    "collapsed": true
   },
   "outputs": [],
   "source": [
    "X_pca = pca.transform(X_scaled)"
   ]
  },
  {
   "cell_type": "code",
   "execution_count": null,
   "metadata": {
    "collapsed": true
   },
   "outputs": [],
   "source": [
    "import mglearn\n",
    "plt.figure(figsize=(30,10))\n",
    "mglearn.discrete_scatter(X_pca[:,0], X_pca[:,1],df_target)\n",
    "plt.legend(target_names, loc = \"best\")\n",
    "plt.gca().set_aspect(\"equal\")\n",
    "plt.xlabel(\"Firast principal component\")\n",
    "plt.ylabel(\"Second principal component\")"
   ]
  },
  {
   "cell_type": "code",
   "execution_count": null,
   "metadata": {
    "collapsed": true
   },
   "outputs": [],
   "source": [
    "pca.components_ #各コンポーネンツの値\n",
    "\n",
    "#重要度変数をバーで表示\n",
    "plt.matshow(pca.components_, cmap='viridis')\n",
    "plt.yticks([0,1],[\"First component\", \"Second component\"])\n",
    "plt.colorbar()"
   ]
  },
  {
   "cell_type": "markdown",
   "metadata": {},
   "source": [
    "### t-SNE"
   ]
  },
  {
   "cell_type": "code",
   "execution_count": null,
   "metadata": {
    "collapsed": true
   },
   "outputs": [],
   "source": [
    "from sklearn.manifold import TSNE\n",
    "tsne = TSNE(n_components = 2, \n",
    "            perplexity = 50.0,\n",
    "            early_exaggeration = 12.0, \n",
    "            learning_rate = 400.0, \n",
    "            method = \"barnes_hut\", \n",
    "            random_state = 20190704)"
   ]
  },
  {
   "cell_type": "code",
   "execution_count": null,
   "metadata": {
    "collapsed": true
   },
   "outputs": [],
   "source": [
    "import matplotlib.pyplot as plt\n",
    "Y = tsne.fit_transform(val)\n",
    "Y.shape"
   ]
  },
  {
   "cell_type": "code",
   "execution_count": null,
   "metadata": {
    "collapsed": true
   },
   "outputs": [],
   "source": [
    "plt.figure(figsize=(30,10))\n",
    "mglearn.discrete_scatter(Y[:,0], Y[:,1],df_target)\n",
    "plt.legend(target_names, loc = \"best\")\n",
    "plt.gca().set_aspect(\"equal\")\n",
    "plt.xlabel(\"Firast principal component\")\n",
    "plt.ylabel(\"Second principal component\")"
   ]
  },
  {
   "cell_type": "markdown",
   "metadata": {},
   "source": [
    "### RandomForest"
   ]
  },
  {
   "cell_type": "code",
   "execution_count": null,
   "metadata": {
    "collapsed": true
   },
   "outputs": [],
   "source": [
    "from sklearn.ensemble import RandomForestClassifier"
   ]
  },
  {
   "cell_type": "code",
   "execution_count": null,
   "metadata": {
    "collapsed": true
   },
   "outputs": [],
   "source": [
    "model = RandomForestClassifier(min_samples_leaf=3, random_state=0)\n",
    "model.fit(X_learn,y_learn)"
   ]
  },
  {
   "cell_type": "code",
   "execution_count": null,
   "metadata": {
    "collapsed": true
   },
   "outputs": [],
   "source": [
    "model.predict(X_test)"
   ]
  },
  {
   "cell_type": "code",
   "execution_count": null,
   "metadata": {
    "collapsed": true
   },
   "outputs": [],
   "source": [
    "pre =model.predict(X_test)"
   ]
  },
  {
   "cell_type": "code",
   "execution_count": null,
   "metadata": {
    "collapsed": true
   },
   "outputs": [],
   "source": [
    "model.score(X_test,y_test)"
   ]
  },
  {
   "cell_type": "code",
   "execution_count": null,
   "metadata": {
    "collapsed": true
   },
   "outputs": [],
   "source": []
  },
  {
   "cell_type": "code",
   "execution_count": null,
   "metadata": {
    "collapsed": true
   },
   "outputs": [],
   "source": []
  },
  {
   "cell_type": "markdown",
   "metadata": {},
   "source": [
    "### データ分割"
   ]
  },
  {
   "cell_type": "code",
   "execution_count": null,
   "metadata": {
    "collapsed": true
   },
   "outputs": [],
   "source": [
    "from sklearn.model_selection import train_test_split\n",
    "X_learn,X_test,y_learn,y_test = train_test_split(X,y)"
   ]
  },
  {
   "cell_type": "code",
   "execution_count": null,
   "metadata": {
    "collapsed": true
   },
   "outputs": [],
   "source": []
  },
  {
   "cell_type": "code",
   "execution_count": null,
   "metadata": {
    "collapsed": true
   },
   "outputs": [],
   "source": []
  },
  {
   "cell_type": "code",
   "execution_count": null,
   "metadata": {
    "collapsed": true
   },
   "outputs": [],
   "source": []
  },
  {
   "cell_type": "markdown",
   "metadata": {},
   "source": [
    "### pickleファイル出力"
   ]
  },
  {
   "cell_type": "code",
   "execution_count": null,
   "metadata": {
    "collapsed": true
   },
   "outputs": [],
   "source": [
    "import pickle"
   ]
  },
  {
   "cell_type": "code",
   "execution_count": null,
   "metadata": {
    "collapsed": true
   },
   "outputs": [],
   "source": [
    "＃modelが、作成したモデルのインスタンス"
   ]
  },
  {
   "cell_type": "code",
   "execution_count": null,
   "metadata": {
    "collapsed": true
   },
   "outputs": [],
   "source": [
    "with open('model.pickle', mode='wb') as fp:\n",
    "    pickle.dump(model, fp)"
   ]
  },
  {
   "cell_type": "code",
   "execution_count": null,
   "metadata": {},
   "outputs": [],
   "source": [
    "#picklファイルの読み込み\n",
    "with open('model.pickle', mode='rb') as f:\n",
    "    model = pickle.load(f)   "
   ]
  },
  {
   "cell_type": "markdown",
   "metadata": {},
   "source": [
    "### CSV出力"
   ]
  },
  {
   "cell_type": "code",
   "execution_count": null,
   "metadata": {
    "collapsed": true
   },
   "outputs": [],
   "source": [
    "df.to_csv('data/dst/to_csv_out.csv')"
   ]
  },
  {
   "cell_type": "code",
   "execution_count": null,
   "metadata": {},
   "outputs": [],
   "source": []
  },
  {
   "cell_type": "markdown",
   "metadata": {},
   "source": [
    "### zipファイルから指定のファイルの取り出し、ファイル名をフォルダ名に変更"
   ]
  },
  {
   "cell_type": "code",
   "execution_count": null,
   "metadata": {},
   "outputs": [],
   "source": [
    "#ディレクトリ内のzipフォルダを検索\n",
    "allFiles = glob.glob(\"./*.zip\")\n",
    "allFiles.sort()\n",
    "allFiles"
   ]
  },
  {
   "cell_type": "code",
   "execution_count": null,
   "metadata": {},
   "outputs": [],
   "source": [
    "#ファイル出力先フォルダを作成\n",
    "newoutdir = './outputdir'\n",
    "if not os.path.exists(newoutdir):\n",
    "        os.makedirs(newoutdir)"
   ]
  },
  {
   "cell_type": "code",
   "execution_count": null,
   "metadata": {},
   "outputs": [],
   "source": [
    "#zipフォルダからrezult16.pngを取り出し、outputディレクトリに移動後、zipフォルダの最初のファイル名に変更\n",
    "#result16.jpgとi[2:16]を変更\n",
    "\n",
    "for i in allFiles:\n",
    "    example_zip = zipfile.ZipFile(i)\n",
    "    filename = example_zip.extract('result16.jpg','./outputdir')\n",
    "    print(i[2:16])\n",
    "    filename_new = './outputdir/'+ i[2:16] + '.png'\n",
    "    shutil.move(filename, filename_new)"
   ]
  },
  {
   "cell_type": "markdown",
   "metadata": {},
   "source": [
    "# データロード"
   ]
  },
  {
   "cell_type": "code",
   "execution_count": null,
   "metadata": {},
   "outputs": [],
   "source": [
    "#iris\n",
    "from sklearn.datasets import load_iris\n",
    "iris = load_iris()"
   ]
  }
 ],
 "metadata": {
  "anaconda-cloud": {},
  "celltoolbar": "Raw Cell Format",
  "kernelspec": {
   "display_name": "Python [conda env:anaconda3-4.2.0]",
   "language": "python",
   "name": "conda-env-anaconda3-4.2.0-py"
  },
  "language_info": {
   "codemirror_mode": {
    "name": "ipython",
    "version": 3
   },
   "file_extension": ".py",
   "mimetype": "text/x-python",
   "name": "python",
   "nbconvert_exporter": "python",
   "pygments_lexer": "ipython3",
   "version": "3.5.6"
  }
 },
 "nbformat": 4,
 "nbformat_minor": 2
}
